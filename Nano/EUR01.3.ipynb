{
 "cells": [
  {
   "cell_type": "code",
   "execution_count": 1,
   "id": "3f8b9a73-ee45-4655-8500-87bec59ea7b3",
   "metadata": {},
   "outputs": [],
   "source": [
    "import numpy as np\n",
    "a=np.array([[1,4],[20,36]])"
   ]
  },
  {
   "cell_type": "code",
   "execution_count": null,
   "id": "54d9b72e-4998-432e-9fdc-ffb28cdeceea",
   "metadata": {},
   "outputs": [],
   "source": []
  },
  {
   "cell_type": "code",
   "execution_count": 2,
   "id": "b3cadac2-9738-4b65-af79-c2b3523cc1ce",
   "metadata": {
    "collapsed": true,
    "jupyter": {
     "outputs_hidden": true
    },
    "tags": []
   },
   "outputs": [
    {
     "name": "stdout",
     "output_type": "stream",
     "text": [
      "[-1.32648174]\n",
      "[1. 1.]\n"
     ]
    }
   ],
   "source": [
    "print(np.random.randn(1))\n",
    "print(np.ones(2))"
   ]
  },
  {
   "cell_type": "code",
   "execution_count": 3,
   "id": "d31ab6ee-11fe-4eda-b158-7370aaca5e2b",
   "metadata": {},
   "outputs": [],
   "source": [
    "b=np.array([[1,2],[4,52],[-3,6]])"
   ]
  },
  {
   "cell_type": "code",
   "execution_count": 4,
   "id": "df5ea297-9b41-4773-9a18-3d6c5cffc2f7",
   "metadata": {},
   "outputs": [
    {
     "data": {
      "text/plain": [
       "3"
      ]
     },
     "execution_count": 4,
     "metadata": {},
     "output_type": "execute_result"
    }
   ],
   "source": [
    "#Rows\n",
    "np.size(b,0)"
   ]
  },
  {
   "cell_type": "code",
   "execution_count": 5,
   "id": "9242b879-56b0-4ea9-ad0f-adee55607e29",
   "metadata": {},
   "outputs": [
    {
     "data": {
      "text/plain": [
       "2"
      ]
     },
     "execution_count": 5,
     "metadata": {},
     "output_type": "execute_result"
    }
   ],
   "source": [
    "#columns\n",
    "np.size(b,1)"
   ]
  },
  {
   "cell_type": "code",
   "execution_count": 6,
   "id": "4f26ec06-f0cf-462f-83a8-73cfd85e47aa",
   "metadata": {},
   "outputs": [],
   "source": [
    "def fact(num):\n",
    "    factorial=1\n",
    "    while num > 1:\n",
    "        factorial = factorial * num\n",
    "        num = num - 1\n",
    "    return factorial\n",
    "\n",
    "def fac(n):\n",
    "    fact=1\n",
    "    k=1\n",
    "    while k<=n:\n",
    "        fact=fact*k\n",
    "        k=k+1\n",
    "    return fact"
   ]
  },
  {
   "cell_type": "code",
   "execution_count": 7,
   "id": "e31cc1b7-9b5b-41ac-9528-46c1601f742c",
   "metadata": {},
   "outputs": [
    {
     "data": {
      "text/plain": [
       "24"
      ]
     },
     "execution_count": 7,
     "metadata": {},
     "output_type": "execute_result"
    }
   ],
   "source": [
    "fact(4)"
   ]
  },
  {
   "cell_type": "code",
   "execution_count": 8,
   "id": "feae3a0a-96ab-46ae-a6ed-9998e6c93472",
   "metadata": {},
   "outputs": [],
   "source": [
    "def expon(x,deg=25):\n",
    "    exp=0\n",
    "    k=0\n",
    "    while k<=deg:\n",
    "        exp=exp+x**k/fact(k)\n",
    "        k=k+1\n",
    "    return exp"
   ]
  },
  {
   "cell_type": "code",
   "execution_count": 139,
   "id": "03c3c578-7dff-4ed9-9056-eb34f873ccae",
   "metadata": {},
   "outputs": [
    {
     "name": "stdout",
     "output_type": "stream",
     "text": [
      "The maximum is: 52\n"
     ]
    }
   ],
   "source": [
    "b=np.array([[1,2],[4,52],[-3,6]])\n",
    "maxi=b[0,0]\n",
    "for k in range(len(b[0,:])):\n",
    "    for j in range(len(b[:,0])):\n",
    "        #print(\"a{}{}={}\".format(j,k,a[j,k]))\n",
    "        if b[j,k]>maxi:\n",
    "            maxi=b[j,k]\n",
    "print(\"The maximum is: {}\".format(maxi))"
   ]
  },
  {
   "cell_type": "code",
   "execution_count": 10,
   "id": "75a5c651-fe62-4966-87ad-22511e3e027d",
   "metadata": {},
   "outputs": [
    {
     "data": {
      "text/plain": [
       "2.7182818284590455"
      ]
     },
     "execution_count": 10,
     "metadata": {},
     "output_type": "execute_result"
    }
   ],
   "source": [
    "expon(1,30)"
   ]
  },
  {
   "cell_type": "code",
   "execution_count": 138,
   "id": "5fa8015e-0038-4bfc-bfd0-2be69b963e84",
   "metadata": {},
   "outputs": [],
   "source": [
    "def min_max(b):\n",
    "    maxi=b[0,0]\n",
    "    for k in range(len(b[0,:])):\n",
    "        for j in range(len(b[:,0])):\n",
    "        #print(\"a{}{}={}\".format(j,k,a[j,k]))\n",
    "            if b[j,k]>maxi:\n",
    "                maxi=b[j,k]\n",
    "    print(\"The maximum is: {}\".format(maxi))\n",
    "    "
   ]
  },
  {
   "cell_type": "code",
   "execution_count": 20,
   "id": "291a5b32-e42c-4b07-a9be-99bdd2bb90e6",
   "metadata": {},
   "outputs": [
    {
     "name": "stdout",
     "output_type": "stream",
     "text": [
      "The maximum is: 52\n"
     ]
    }
   ],
   "source": [
    "min_max(b)"
   ]
  },
  {
   "cell_type": "code",
   "execution_count": 1,
   "id": "9c8e1f92-c719-4081-a1e9-d1ee22b765e6",
   "metadata": {},
   "outputs": [
    {
     "name": "stdout",
     "output_type": "stream",
     "text": [
      "The maximum is:  29\n"
     ]
    }
   ],
   "source": [
    "ar=[9,13,29,8]\n",
    "maximum=ar[0]\n",
    "for k in range(len(ar)):\n",
    "    if ar[k]>maximum:\n",
    "        maximum=ar[k]\n",
    "print(\"The maximum is: \",maximum)"
   ]
  },
  {
   "cell_type": "code",
   "execution_count": 17,
   "id": "8e94b086-5bda-4dee-af71-d6b3ac62d9d5",
   "metadata": {},
   "outputs": [
    {
     "name": "stdout",
     "output_type": "stream",
     "text": [
      "[13, 9, 8, 29]\n"
     ]
    }
   ],
   "source": [
    "ar=[29,13,9,8]\n",
    "n=len(ar)\n",
    "maxi=n-1\n",
    "for i in range(0,maxi):\n",
    "    if ar[i]>ar[i+1]:\n",
    "        temp=ar[i]\n",
    "        ar[i]=ar[i+1]\n",
    "        ar[i+1]=temp\n",
    "print(ar)"
   ]
  },
  {
   "cell_type": "code",
   "execution_count": 1,
   "id": "fceacb53-1393-4486-9f58-11de80a00c22",
   "metadata": {},
   "outputs": [
    {
     "name": "stdout",
     "output_type": "stream",
     "text": [
      "[3, 8, 29, 59]\n"
     ]
    }
   ],
   "source": [
    "ar=[29,3,59,8]\n",
    "n=len(ar)\n",
    "maxi=n-1\n",
    "for j in range(maxi+1, 1,-1):\n",
    "    for i in range(0,maxi):\n",
    "        if ar[i]>ar[i+1]:\n",
    "            temp=ar[i]\n",
    "            ar[i]=ar[i+1]\n",
    "            ar[i+1]=temp\n",
    "print(ar)"
   ]
  },
  {
   "cell_type": "code",
   "execution_count": 11,
   "id": "17c0e290-4a06-44ca-ba90-c79c3716383d",
   "metadata": {},
   "outputs": [
    {
     "name": "stdout",
     "output_type": "stream",
     "text": [
      "[4, 2, 45, 333, 435, 234, 596, 56, 789, 5, 425, 4556, 5343]\n"
     ]
    }
   ],
   "source": [
    "#compare A[0] with the rest elements\n",
    "A=[4,596,2,45,333,435,234,789,56,4556,5,425,5343]\n",
    "for k in range(0, len(A)-1):\n",
    "    if A[k]>A[k+1]:\n",
    "        temp=A[k]\n",
    "        A[k]=A[k+1]\n",
    "        A[k+1]=temp\n",
    "print(A)"
   ]
  },
  {
   "cell_type": "code",
   "execution_count": 9,
   "id": "116dfdec-7f17-4537-9db7-f46e0829c2bd",
   "metadata": {},
   "outputs": [
    {
     "data": {
      "text/plain": [
       "[2, 4, 45, 56, 5, 234, 333, 425, 435, 596, 789, 4556, 5343]"
      ]
     },
     "execution_count": 9,
     "metadata": {},
     "output_type": "execute_result"
    }
   ],
   "source": [
    "#Other way to do the same\n",
    "for i in range(0,len(A)+1):\n",
    "    for k in range(i,len(A)-1):\n",
    "        if A[k]>A[k+1]:\n",
    "            temp=A[k]\n",
    "            A[k]=A[k+1]\n",
    "            A[k+1]=temp\n",
    "            #print(A[k],A[k+1])\n",
    "A"
   ]
  },
  {
   "cell_type": "code",
   "execution_count": null,
   "id": "6f37cfd3-3216-4305-88ba-76bbc832a350",
   "metadata": {},
   "outputs": [],
   "source": []
  },
  {
   "cell_type": "code",
   "execution_count": null,
   "id": "f977673e-ad96-4172-b080-f322d6caeaf2",
   "metadata": {},
   "outputs": [],
   "source": []
  },
  {
   "cell_type": "code",
   "execution_count": null,
   "id": "e1a9b6b4-8878-4719-b293-6118e853a023",
   "metadata": {},
   "outputs": [],
   "source": []
  },
  {
   "cell_type": "code",
   "execution_count": null,
   "id": "f00b11f8-830f-4186-b1d7-093d9aceacd9",
   "metadata": {},
   "outputs": [],
   "source": []
  },
  {
   "cell_type": "code",
   "execution_count": 140,
   "id": "cf53646f-3088-450a-a413-448024e84b3c",
   "metadata": {},
   "outputs": [],
   "source": [
    "import numpy as np"
   ]
  },
  {
   "cell_type": "code",
   "execution_count": 145,
   "id": "0efa250b-8a4f-4773-b59c-5743b81bf5fb",
   "metadata": {},
   "outputs": [
    {
     "name": "stdout",
     "output_type": "stream",
     "text": [
      "This is C[0,0]:  9.0\n",
      "This is C[0,1] 106.0\n"
     ]
    }
   ],
   "source": [
    "A=np.array([[1,2],[4,52],[-3,6]])\n",
    "B=np.array([[1,2,6],[4,52,4]])\n",
    "col_A_len=len(A[0,:])\n",
    "raw_A_len=len(A[:,0])\n",
    "C=np.zeros([3, 3])\n",
    "#c11\n",
    "for k in range(0,col_A_len):\n",
    "    C[0,0]=A[0,k]*B[k,0]+C[0,0]\n",
    "#c12\n",
    "for k in range(0,col_A_len):\n",
    "    C[0,1]=A[0,k]*B[k,1]+C[0,1]\n",
    "print(\"This is C[0,0]: \",C[0,0])\n",
    "print(\"This is C[0,1]\",C[0,1])"
   ]
  },
  {
   "cell_type": "code",
   "execution_count": 13,
   "id": "0c4c6861-1dba-4482-9e27-bae52fbf14e2",
   "metadata": {},
   "outputs": [
    {
     "name": "stdout",
     "output_type": "stream",
     "text": [
      "[[  9. 106.  14.]\n",
      " [  0.   0.   0.]\n",
      " [  0.   0.   0.]]\n"
     ]
    }
   ],
   "source": [
    "#Row 1, i.e. c11,c12,c13\n",
    "import numpy as np\n",
    "A=np.array([[1,2],[4,52],[-3,6]])\n",
    "B=np.array([[1,2,6],[4,52,4]])\n",
    "col_A_len=len(A[0,:])\n",
    "raw_A_len=len(A[:,0])\n",
    "C=np.zeros([3, 3])\n",
    "for j in range(0,raw_A_len):\n",
    "    for k in range(0,col_A_len):\n",
    "        C[0,j]=A[0,k]*B[k,j]+C[0,j]\n",
    "print(C)"
   ]
  },
  {
   "cell_type": "code",
   "execution_count": 14,
   "id": "03e27448-096b-4c15-9f67-b5a85683a02a",
   "metadata": {},
   "outputs": [
    {
     "name": "stdout",
     "output_type": "stream",
     "text": [
      "[[   9.  106.   14.]\n",
      " [ 212. 2712.  232.]\n",
      " [  21.  306.    6.]]\n"
     ]
    }
   ],
   "source": [
    "#A*B\n",
    "A=np.array([[1,2],[4,52],[-3,6]])\n",
    "B=np.array([[1,2,6],[4,52,4]])\n",
    "col_A_len=len(A[0,:])\n",
    "raw_A_len=len(A[:,0])\n",
    "col_B_len=len(B[0,:])\n",
    "C=np.zeros([len(A[:,0]), len(B[0,:])])\n",
    "for i in range(0,raw_A_len):\n",
    "    for j in range(0,col_B_len):\n",
    "        for k in range(0,col_A_len):\n",
    "            C[i,j]=A[i,k]*B[k,j]+C[i,j]\n",
    "print(C)"
   ]
  },
  {
   "cell_type": "code",
   "execution_count": 125,
   "id": "c946886a-7a54-40a0-8116-d783543a897d",
   "metadata": {},
   "outputs": [
    {
     "data": {
      "text/plain": [
       "3"
      ]
     },
     "execution_count": 125,
     "metadata": {},
     "output_type": "execute_result"
    }
   ],
   "source": [
    "len(B[0,:])"
   ]
  },
  {
   "cell_type": "code",
   "execution_count": 11,
   "id": "7f69be75-595f-423c-93a5-a9e75a7180a6",
   "metadata": {},
   "outputs": [],
   "source": [
    "#Function Matrix product\n",
    "def Matrix_prod(A,B):\n",
    "    col_A_len=len(A[0,:])\n",
    "    raw_A_len=len(A[:,0])\n",
    "    col_B_len=len(B[0,:])\n",
    "    C=np.zeros([len(A[:,0]), len(B[0,:])])\n",
    "    for i in range(0,raw_A_len):\n",
    "        for j in range(0,col_B_len):\n",
    "            for k in range(0,col_A_len):\n",
    "                C[i,j]=C[i,j]+A[i,k]*B[k,j]\n",
    "    return C                "
   ]
  },
  {
   "cell_type": "code",
   "execution_count": 12,
   "id": "c534aefc-877f-48ad-8222-d13d573a88ba",
   "metadata": {},
   "outputs": [
    {
     "data": {
      "text/plain": [
       "array([[46., 75.],\n",
       "       [29., 77.]])"
      ]
     },
     "execution_count": 12,
     "metadata": {},
     "output_type": "execute_result"
    }
   ],
   "source": [
    "D=np.array([[4,7,1],[7,3,9]])\n",
    "E=np.array([[5,2],[4,9],[-2,4]])\n",
    "Matrix_prod(D,E)"
   ]
  },
  {
   "cell_type": "code",
   "execution_count": 13,
   "id": "a9f4aa4c-0e30-48c6-bf83-50b65529b8d6",
   "metadata": {},
   "outputs": [
    {
     "data": {
      "text/plain": [
       "array([[46, 75],\n",
       "       [29, 77]])"
      ]
     },
     "execution_count": 13,
     "metadata": {},
     "output_type": "execute_result"
    }
   ],
   "source": [
    "D@E"
   ]
  },
  {
   "cell_type": "code",
   "execution_count": null,
   "id": "8a7e2690-0149-486b-a663-e2d3c8b642db",
   "metadata": {},
   "outputs": [],
   "source": [
    "\n",
    "\n",
    "\n"
   ]
  },
  {
   "cell_type": "code",
   "execution_count": 23,
   "id": "2185d39a-0906-4133-ae34-614e4c928461",
   "metadata": {},
   "outputs": [
    {
     "name": "stdin",
     "output_type": "stream",
     "text": [
      " 2\n"
     ]
    }
   ],
   "source": []
  },
  {
   "cell_type": "code",
   "execution_count": 20,
   "id": "a01e4dc2-14f2-4b53-bb29-1fb30bb1ae73",
   "metadata": {},
   "outputs": [
    {
     "name": "stdin",
     "output_type": "stream",
     "text": [
      "Enter the input a_0 between -3 and 3: 8\n"
     ]
    },
    {
     "name": "stdout",
     "output_type": "stream",
     "text": [
      "Too large, try aga4in\n"
     ]
    },
    {
     "name": "stdin",
     "output_type": "stream",
     "text": [
      " 2.1\n"
     ]
    },
    {
     "name": "stdout",
     "output_type": "stream",
     "text": [
      "Correct range\n"
     ]
    }
   ],
   "source": [
    "v_min=-3\n",
    "v_max=3\n",
    "a_0=float(input(\"Enter the input a_0 between {} and {}:\".format(v_min, v_max)))\n",
    "while (int(a_0)<v_min or int(a_0)>v_max):\n",
    "    if int(a_0)<v_min:\n",
    "        print(\"Too small, try again\")\n",
    "    elif int(a_0)>v_max:\n",
    "        print(\"Too large, try again\")\n",
    "    a_0=float(input())\n",
    "print(\"Correct range\")"
   ]
  },
  {
   "cell_type": "code",
   "execution_count": null,
   "id": "1fdf4f2f-9c33-432e-8447-8f21f1d83fd2",
   "metadata": {},
   "outputs": [],
   "source": [
    "\n",
    "\n",
    "\n",
    "\n"
   ]
  },
  {
   "cell_type": "code",
   "execution_count": 21,
   "id": "80c45188-b4f3-4234-9d61-1a7d0064085c",
   "metadata": {},
   "outputs": [
    {
     "name": "stdin",
     "output_type": "stream",
     "text": [
      "Give me a number among 4 and 50: 32\n"
     ]
    },
    {
     "name": "stdout",
     "output_type": "stream",
     "text": [
      "Middle is:  6\n",
      "New high is:  6\n",
      "Middle is:  3\n",
      "New low is:  3\n",
      "Middle is:  4\n",
      "New low is:  4\n",
      "Middle is:  5\n",
      "New low is:  5\n",
      "The closest value to 32.0 is 30\n"
     ]
    }
   ],
   "source": [
    "B=[4,7,9,15,22,30,35,37,40,41,47,50]\n",
    "loop=1\n",
    "low=0\n",
    "high=len(B)\n",
    "\n",
    "import math\n",
    "\n",
    "y2=float(input(\"Give me a number among {} and {}:\".format(B[0],B[-1])))\n",
    "while (loop==1):\n",
    "    middle=round((low+high)/2)\n",
    "    print(\"Middle is: \",middle)\n",
    "    if (round(B[middle])>round(y2)):\n",
    "        high=middle\n",
    "        print(\"New high is: \",middle)\n",
    "    elif(round(B[middle])<round(y2)):\n",
    "        low=middle\n",
    "        print(\"New low is: \",middle)\n",
    "    elif (round(B[middle])==round(y2)):\n",
    "        print(\"closest lower number to {} is {}\".format(y2,B[middle]))\n",
    "        loop=0\n",
    "    if (high-low)==1:\n",
    "        print(\"The closest value to {} is {}\".format(y2,B[middle]))\n",
    "        loop=0\n",
    "        "
   ]
  },
  {
   "cell_type": "code",
   "execution_count": 22,
   "id": "b5e9cc6c-0481-4cdb-990b-3c460f3e5566",
   "metadata": {},
   "outputs": [
    {
     "data": {
      "text/plain": [
       "9"
      ]
     },
     "execution_count": 22,
     "metadata": {},
     "output_type": "execute_result"
    }
   ],
   "source": [
    "B=[4,7,9,15,22,30,35,37,40,41,47,50]\n",
    "round(8.7)"
   ]
  },
  {
   "cell_type": "code",
   "execution_count": null,
   "id": "152261d0-d6e2-4440-9bbd-b1e55d692785",
   "metadata": {},
   "outputs": [],
   "source": []
  },
  {
   "cell_type": "code",
   "execution_count": 12,
   "id": "95371f29-4061-41db-a2de-33cb39a58594",
   "metadata": {},
   "outputs": [],
   "source": [
    "import numpy as np\n",
    "from pylab import *"
   ]
  },
  {
   "cell_type": "code",
   "execution_count": 39,
   "id": "02fcaab1-117b-4641-b90e-10ca4e344a71",
   "metadata": {},
   "outputs": [
    {
     "name": "stdout",
     "output_type": "stream",
     "text": [
      "[-3.         -2.33333333 -1.66666667 -1.         -0.33333333  0.33333333\n",
      "  1.          1.66666667  2.33333333  3.        ]\n"
     ]
    }
   ],
   "source": [
    "x=np.linspace(-3,3,10)\n",
    "y=x**2\n",
    "y2=y+7*x\n",
    "#plot(2,1, 'r')\n",
    "print(x)\n",
    "#plot(x,y,'r.')\n",
    "#plot(x,y2,'b.')"
   ]
  },
  {
   "cell_type": "code",
   "execution_count": 241,
   "id": "33745cb9-6055-4c91-bb4b-c2df1ae0bfa8",
   "metadata": {},
   "outputs": [
    {
     "name": "stdout",
     "output_type": "stream",
     "text": [
      "[1 2 1 0 3 3 3 4 3 1 3 4 4 4 4 4 4 4 0 4 1 0 4 4 1 0 1 0 1 0 0 4 4 4 0 4 3\n",
      " 0 3 2 2 2 0 1 2 1 4 2 3 1 4 3 0 0 4 2 0 3 2 1 3 0 2 2 4 1 1 4 1 1 3 0 2 0\n",
      " 2 4 1 3 1 0 0 3 3 0 0 3 3 0 1 2 0 2 4 3 4 2 2 3 2 1]\n"
     ]
    }
   ],
   "source": [
    "#1-5. plot 20 points in blue point by point then by a continuous line\n",
    "x_r=randint(0, 5, 100)\n",
    "print(x_r)"
   ]
  },
  {
   "cell_type": "code",
   "execution_count": 243,
   "id": "827b8842-6a5e-42e3-8765-f28c4288d8a5",
   "metadata": {},
   "outputs": [
    {
     "data": {
      "text/plain": [
       "1.5"
      ]
     },
     "execution_count": 243,
     "metadata": {},
     "output_type": "execute_result"
    }
   ],
   "source": [
    "(x_r[0]+x_r[1])/2"
   ]
  },
  {
   "cell_type": "code",
   "execution_count": 245,
   "id": "474658cf-2abb-4869-bdcd-063e50c5fc6a",
   "metadata": {},
   "outputs": [
    {
     "name": "stdout",
     "output_type": "stream",
     "text": [
      "[0.  1.5 1.5 0.5 1.5 3.  3.  3.5 3.5 2.  2.  3.5 4.  4.  4.  4.  4.  4.\n",
      " 2.  2.  2.5 0.5 2.  4.  2.5 0.5 0.5 0.5 0.5 0.5 0.  2.  4.  4.  2.  2.\n",
      " 3.5 1.5 1.5 2.5 2.  2.  1.  0.5 1.5 1.5 2.5 3.  2.5 2.  2.5 3.5 1.5 0.\n",
      " 2.  3.  1.  1.5 2.5 1.5 2.  1.5 1.  2.  3.  2.5 1.  2.5 2.5 1.  2.  1.5\n",
      " 1.  1.  1.  3.  2.5 2.  2.  0.5 0.  1.5 3.  1.5 0.  1.5 3.  1.5 0.5 1.5\n",
      " 1.  1.  3.  3.5 3.5 3.  2.  2.5 2.5 1.5] b.\n"
     ]
    }
   ],
   "source": [
    "B=np.zeros(len(x_r))\n",
    "for k in range(1,len(B)):\n",
    "    B[k]=(x_r[k-1]+x_r[k])/2\n",
    "#print(x_r,'r.')\n",
    "print(B,'b.')"
   ]
  },
  {
   "cell_type": "code",
   "execution_count": 246,
   "id": "e6ad1ed8-12c6-4967-a0e0-85c821592b11",
   "metadata": {},
   "outputs": [
    {
     "data": {
      "text/plain": [
       "array([ 0.5,  1.5,  2.5,  3.5,  4.5,  5.5,  6.5,  7.5,  8.5,  9.5, 10.5,\n",
       "       11.5, 12.5, 13.5, 14.5, 15.5, 16.5, 17.5, 18.5, 19.5, 20.5, 21.5,\n",
       "       22.5, 23.5, 24.5, 25.5, 26.5, 27.5, 28.5, 29.5, 30.5, 31.5, 32.5,\n",
       "       33.5, 34.5, 35.5, 36.5, 37.5, 38.5, 39.5, 40.5, 41.5, 42.5, 43.5,\n",
       "       44.5, 45.5, 46.5, 47.5, 48.5, 49.5, 50.5, 51.5, 52.5, 53.5, 54.5,\n",
       "       55.5, 56.5, 57.5, 58.5, 59.5, 60.5, 61.5, 62.5, 63.5, 64.5, 65.5,\n",
       "       66.5, 67.5, 68.5, 69.5, 70.5, 71.5, 72.5, 73.5, 74.5, 75.5, 76.5,\n",
       "       77.5, 78.5, 79.5, 80.5, 81.5, 82.5, 83.5, 84.5, 85.5, 86.5, 87.5,\n",
       "       88.5, 89.5, 90.5, 91.5, 92.5, 93.5, 94.5, 95.5, 96.5, 97.5, 98.5,\n",
       "       99.5])"
      ]
     },
     "execution_count": 246,
     "metadata": {},
     "output_type": "execute_result"
    }
   ],
   "source": [
    "C=np.zeros(len(B))\n",
    "for k in range(0,len(B)):\n",
    "    #C[2*k]=x_r[k]\n",
    "    C[k]=(k+k+1)/2\n",
    "C"
   ]
  },
  {
   "cell_type": "code",
   "execution_count": 247,
   "id": "c31559ef-79fd-4156-a20a-30459db937bc",
   "metadata": {},
   "outputs": [
    {
     "data": {
      "text/plain": [
       "[<matplotlib.lines.Line2D at 0x7f2cf03185d0>]"
      ]
     },
     "execution_count": 247,
     "metadata": {},
     "output_type": "execute_result"
    },
    {
     "data": {
      "image/png": "[encoded data removed]",
      "text/plain": [
       "<Figure size 432x288 with 1 Axes>"
      ]
     },
     "metadata": {
      "needs_background": "light"
     },
     "output_type": "display_data"
    }
   ],
   "source": [
    "plot(x_r,'r.')\n",
    "plot(B,'b.')\n",
    "plot(C, B,'g')"
   ]
  },
  {
   "cell_type": "code",
   "execution_count": 265,
   "id": "4bab8cb6-e263-4274-a9da-d54efd88900a",
   "metadata": {},
   "outputs": [],
   "source": [
    "s=0\n",
    "for k in range(len(B)):\n",
    "    s=s+B[k]\n",
    "av=s/len(x_r)"
   ]
  },
  {
   "cell_type": "code",
   "execution_count": 283,
   "id": "1fd52595-cc40-4812-886c-57b5083bc1a8",
   "metadata": {},
   "outputs": [],
   "source": [
    "D=np.zeros(len(C))\n",
    "for k in range(len(D)):\n",
    "    D[k]=av"
   ]
  },
  {
   "cell_type": "code",
   "execution_count": 288,
   "id": "d0dc8de5-905b-45ab-8614-3fbf847c11f9",
   "metadata": {},
   "outputs": [
    {
     "data": {
      "text/plain": [
       "[<matplotlib.lines.Line2D at 0x7f2ceb694cd0>]"
      ]
     },
     "execution_count": 288,
     "metadata": {},
     "output_type": "execute_result"
    },
    {
     "data": {
      "image/png": "[encoded data removed]",
      "text/plain": [
       "<Figure size 432x288 with 1 Axes>"
      ]
     },
     "metadata": {
      "needs_background": "light"
     },
     "output_type": "display_data"
    }
   ],
   "source": [
    "plot(x_r,'r.')\n",
    "plot(B,'b.')\n",
    "plot(C, B,'g')\n",
    "plot(D, 'c')"
   ]
  }
 ],
 "metadata": {
  "kernelspec": {
   "display_name": "Python",
   "language": "python",
   "name": "conda-env-python-py"
  },
  "language_info": {
   "codemirror_mode": {
    "name": "ipython",
    "version": 3
   },
   "file_extension": ".py",
   "mimetype": "text/x-python",
   "name": "python",
   "nbconvert_exporter": "python",
   "pygments_lexer": "ipython3",
   "version": "3.7.10"
  }
 },
 "nbformat": 4,
 "nbformat_minor": 5
}
